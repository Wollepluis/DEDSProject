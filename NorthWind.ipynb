{
 "cells": [
  {
   "cell_type": "code",
   "execution_count": null,
   "metadata": {},
   "outputs": [],
   "source": [
    "import sqlite3\n",
    "\n",
    "# Define database name\n",
    "db_name = \"Data/NorthWind.sqlite\"  # Change as needed\n",
    "sql_file = \"Data/NorthWind.txt\"  # Replace with your file\n",
    "\n",
    "# Connect to SQLite (creates the database if it doesn't exist)\n",
    "conn = sqlite3.connect(db_name)\n",
    "cursor = conn.cursor()\n",
    "\n",
    "# Read the SQL file\n",
    "with open(sql_file, \"r\") as file:\n",
    "    sql_script = file.read()\n",
    "\n",
    "# Execute the SQL script\n",
    "cursor.executescript(sql_script)\n",
    "\n",
    "# Commit and close the connection\n",
    "conn.commit()\n",
    "conn.close()"
   ]
  }
 ],
 "metadata": {
  "kernelspec": {
   "display_name": ".venv",
   "language": "python",
   "name": "python3"
  },
  "language_info": {
   "name": "python",
   "version": "3.11.2"
  }
 },
 "nbformat": 4,
 "nbformat_minor": 2
}
