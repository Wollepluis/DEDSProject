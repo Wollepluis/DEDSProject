{
 "cells": [
  {
   "cell_type": "code",
   "execution_count": 23,
   "metadata": {},
   "outputs": [],
   "source": [
    "import sqlite3\n",
    "\n",
    "# Connect to database (or create if it doesn't exist)\n",
    "conn = sqlite3.connect(\"Data/aenc.sqlite\")  # Replace with your database file\n",
    "\n",
    "# Create a cursor object\n",
    "cursor = conn.cursor()"
   ]
  },
  {
   "cell_type": "code",
   "execution_count": 24,
   "metadata": {},
   "outputs": [],
   "source": [
    "cursor.execute(\"SELECT * FROM Bonus\")\n",
    "Bonus = cursor.fetchall()\n",
    "\n",
    "cursor.execute(\"SELECT * FROM Customer\")\n",
    "Customer = cursor.fetchall()\n",
    "\n",
    "cursor.execute(\"SELECT * FROM Department\")\n",
    "Department = cursor.fetchall()\n",
    "\n",
    "cursor.execute(\"SELECT * FROM Employee\")\n",
    "Employee = cursor.fetchall()\n",
    "\n",
    "cursor.execute(\"SELECT * FROM Product\")\n",
    "Product = cursor.fetchall()\n",
    "\n",
    "cursor.execute(\"SELECT * FROM Sales_Order\")\n",
    "Sales_Order = cursor.fetchall()\n",
    "\n",
    "cursor.execute(\"SELECT * FROM Sales_Order_Item\")\n",
    "Sales_Order_Item = cursor.fetchall()\n",
    "\n",
    "cursor.execute(\"SELECT * FROM State\")\n",
    "State = cursor.fetchall()"
   ]
  },
  {
   "cell_type": "code",
   "execution_count": 30,
   "metadata": {},
   "outputs": [
    {
     "ename": "NumericValueOutOfRange",
     "evalue": "integer out of range\n",
     "output_type": "error",
     "traceback": [
      "\u001b[31m---------------------------------------------------------------------------\u001b[39m",
      "\u001b[31mNumericValueOutOfRange\u001b[39m                    Traceback (most recent call last)",
      "\u001b[36mCell\u001b[39m\u001b[36m \u001b[39m\u001b[32mIn[30]\u001b[39m\u001b[32m, line 46\u001b[39m\n\u001b[32m     44\u001b[39m \u001b[38;5;66;03m# Push data from each table\u001b[39;00m\n\u001b[32m     45\u001b[39m \u001b[38;5;28;01mfor\u001b[39;00m table \u001b[38;5;129;01min\u001b[39;00m tables:\n\u001b[32m---> \u001b[39m\u001b[32m46\u001b[39m     \u001b[43mpush_data_to_pg\u001b[49m\u001b[43m(\u001b[49m\u001b[43msqlite_cursor\u001b[49m\u001b[43m,\u001b[49m\u001b[43m \u001b[49m\u001b[43mpg_cursor\u001b[49m\u001b[43m,\u001b[49m\u001b[43m \u001b[49m\u001b[43mtable\u001b[49m\u001b[43m)\u001b[49m\n\u001b[32m     48\u001b[39m \u001b[38;5;66;03m# Close connections\u001b[39;00m\n\u001b[32m     49\u001b[39m sqlite_conn.close()\n",
      "\u001b[36mCell\u001b[39m\u001b[36m \u001b[39m\u001b[32mIn[30]\u001b[39m\u001b[32m, line 38\u001b[39m, in \u001b[36mpush_data_to_pg\u001b[39m\u001b[34m(sqlite_cursor, pg_cursor, table_name)\u001b[39m\n\u001b[32m     35\u001b[39m insert_query = \u001b[33mf\u001b[39m\u001b[33m\"\u001b[39m\u001b[33mINSERT INTO \u001b[39m\u001b[38;5;132;01m{\u001b[39;00mquoted_table_name\u001b[38;5;132;01m}\u001b[39;00m\u001b[33m (\u001b[39m\u001b[38;5;132;01m{\u001b[39;00m\u001b[33m'\u001b[39m\u001b[33m, \u001b[39m\u001b[33m'\u001b[39m.join(quoted_columns)\u001b[38;5;132;01m}\u001b[39;00m\u001b[33m) VALUES (\u001b[39m\u001b[38;5;132;01m{\u001b[39;00m\u001b[33m'\u001b[39m\u001b[33m, \u001b[39m\u001b[33m'\u001b[39m.join([\u001b[33m'\u001b[39m\u001b[38;5;132;01m%s\u001b[39;00m\u001b[33m'\u001b[39m]\u001b[38;5;250m \u001b[39m*\u001b[38;5;250m \u001b[39m\u001b[38;5;28mlen\u001b[39m(columns))\u001b[38;5;132;01m}\u001b[39;00m\u001b[33m)\u001b[39m\u001b[33m\"\u001b[39m\n\u001b[32m     37\u001b[39m \u001b[38;5;66;03m# Insert data row by row into PostgreSQL\u001b[39;00m\n\u001b[32m---> \u001b[39m\u001b[32m38\u001b[39m \u001b[43mpg_cursor\u001b[49m\u001b[43m.\u001b[49m\u001b[43mexecutemany\u001b[49m\u001b[43m(\u001b[49m\u001b[43minsert_query\u001b[49m\u001b[43m,\u001b[49m\u001b[43m \u001b[49m\u001b[43mdata\u001b[49m\u001b[43m)\u001b[49m\n\u001b[32m     39\u001b[39m pg_conn.commit()\n",
      "\u001b[31mNumericValueOutOfRange\u001b[39m: integer out of range\n"
     ]
    }
   ],
   "source": [
    "import sqlite3\n",
    "import psycopg2\n",
    "\n",
    "# SQLite connection\n",
    "sqlite_conn = sqlite3.connect(\"Data/aenc.sqlite\")\n",
    "sqlite_cursor = sqlite_conn.cursor()\n",
    "\n",
    "# PostgreSQL connection\n",
    "pg_conn = psycopg2.connect(\n",
    "    host=\"132.164.25.250\",\n",
    "    port=\"5432\",\n",
    "    database=\"AenC\",\n",
    "    user=\"admin\",\n",
    "    password=\"MelleWessel123\"\n",
    ")\n",
    "pg_cursor = pg_conn.cursor()\n",
    "\n",
    "# Function to push data from SQLite to PostgreSQL\n",
    "def push_data_to_pg(sqlite_cursor, pg_cursor, table_name):\n",
    "    # Fetch data from SQLite table\n",
    "    sqlite_cursor.execute(f\"SELECT * FROM {table_name}\")\n",
    "    data = sqlite_cursor.fetchall()\n",
    "\n",
    "    # If the table has data, proceed to insert into PostgreSQL\n",
    "    if data:\n",
    "        # Get column names of the table from SQLite\n",
    "        sqlite_cursor.execute(f\"PRAGMA table_info({table_name})\")\n",
    "        columns = [column[1] for column in sqlite_cursor.fetchall()]\n",
    "        \n",
    "        # Quote the table and column names to handle case sensitivity\n",
    "        quoted_columns = [f'\"{column}\"' for column in columns]\n",
    "        quoted_table_name = f'\"{table_name}\"'\n",
    "        \n",
    "        # Construct the INSERT SQL query\n",
    "        insert_query = f\"INSERT INTO {quoted_table_name} ({', '.join(quoted_columns)}) VALUES ({', '.join(['%s'] * len(columns))})\"\n",
    "        \n",
    "        # Insert data row by row into PostgreSQL\n",
    "        pg_cursor.executemany(insert_query, data)\n",
    "        pg_conn.commit()\n",
    "\n",
    "# List of tables to transfer\n",
    "tables = [\"Product\", \"Department\", \"State\", \"Customer\", \"Employee\", \"Bonus\", \"Sales_Order\", \"Sales_Order_Item\"]\n",
    "\n",
    "# Push data from each table\n",
    "for table in tables:\n",
    "    push_data_to_pg(sqlite_cursor, pg_cursor, table)\n",
    "\n",
    "# Close connections\n",
    "sqlite_conn.close()\n",
    "pg_conn.close()\n"
   ]
  }
 ],
 "metadata": {
  "kernelspec": {
   "display_name": ".venv",
   "language": "python",
   "name": "python3"
  },
  "language_info": {
   "codemirror_mode": {
    "name": "ipython",
    "version": 3
   },
   "file_extension": ".py",
   "mimetype": "text/x-python",
   "name": "python",
   "nbconvert_exporter": "python",
   "pygments_lexer": "ipython3",
   "version": "3.11.2"
  }
 },
 "nbformat": 4,
 "nbformat_minor": 2
}
